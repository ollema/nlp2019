{
  "nbformat": 4,
  "nbformat_minor": 0,
  "metadata": {
    "colab": {
      "name": "a1 bert",
      "provenance": [],
      "collapsed_sections": [],
      "include_colab_link": true
    },
    "kernelspec": {
      "name": "python3",
      "display_name": "Python 3"
    },
    "accelerator": "GPU"
  },
  "cells": [
    {
      "cell_type": "markdown",
      "metadata": {
        "id": "view-in-github",
        "colab_type": "text"
      },
      "source": [
        "<a href=\"https://colab.research.google.com/github/ollema/nlp2019/blob/master/a1_bert.ipynb\" target=\"_parent\"><img src=\"https://colab.research.google.com/assets/colab-badge.svg\" alt=\"Open In Colab\"/></a>"
      ]
    },
    {
      "cell_type": "code",
      "metadata": {
        "id": "jwuKs_y0ANC9",
        "colab_type": "code",
        "outputId": "73e38396-649b-4b52-d009-1a5287a1c31d",
        "colab": {
          "base_uri": "https://localhost:8080/",
          "height": 579
        }
      },
      "source": [
        "!pip install transformers\n",
        "!wget https://raw.githubusercontent.com/ollema/nlp2019/master/a1_data/wsd_train.txt"
      ],
      "execution_count": 4,
      "outputs": [
        {
          "output_type": "stream",
          "text": [
            "Requirement already satisfied: transformers in /usr/local/lib/python3.6/dist-packages (2.1.1)\n",
            "Requirement already satisfied: tqdm in /usr/local/lib/python3.6/dist-packages (from transformers) (4.28.1)\n",
            "Requirement already satisfied: boto3 in /usr/local/lib/python3.6/dist-packages (from transformers) (1.10.13)\n",
            "Requirement already satisfied: sacremoses in /usr/local/lib/python3.6/dist-packages (from transformers) (0.0.35)\n",
            "Requirement already satisfied: requests in /usr/local/lib/python3.6/dist-packages (from transformers) (2.21.0)\n",
            "Requirement already satisfied: regex in /usr/local/lib/python3.6/dist-packages (from transformers) (2019.11.1)\n",
            "Requirement already satisfied: sentencepiece in /usr/local/lib/python3.6/dist-packages (from transformers) (0.1.83)\n",
            "Requirement already satisfied: numpy in /usr/local/lib/python3.6/dist-packages (from transformers) (1.17.3)\n",
            "Requirement already satisfied: botocore<1.14.0,>=1.13.13 in /usr/local/lib/python3.6/dist-packages (from boto3->transformers) (1.13.13)\n",
            "Requirement already satisfied: jmespath<1.0.0,>=0.7.1 in /usr/local/lib/python3.6/dist-packages (from boto3->transformers) (0.9.4)\n",
            "Requirement already satisfied: s3transfer<0.3.0,>=0.2.0 in /usr/local/lib/python3.6/dist-packages (from boto3->transformers) (0.2.1)\n",
            "Requirement already satisfied: six in /usr/local/lib/python3.6/dist-packages (from sacremoses->transformers) (1.12.0)\n",
            "Requirement already satisfied: joblib in /usr/local/lib/python3.6/dist-packages (from sacremoses->transformers) (0.14.0)\n",
            "Requirement already satisfied: click in /usr/local/lib/python3.6/dist-packages (from sacremoses->transformers) (7.0)\n",
            "Requirement already satisfied: chardet<3.1.0,>=3.0.2 in /usr/local/lib/python3.6/dist-packages (from requests->transformers) (3.0.4)\n",
            "Requirement already satisfied: idna<2.9,>=2.5 in /usr/local/lib/python3.6/dist-packages (from requests->transformers) (2.8)\n",
            "Requirement already satisfied: certifi>=2017.4.17 in /usr/local/lib/python3.6/dist-packages (from requests->transformers) (2019.9.11)\n",
            "Requirement already satisfied: urllib3<1.25,>=1.21.1 in /usr/local/lib/python3.6/dist-packages (from requests->transformers) (1.24.3)\n",
            "Requirement already satisfied: docutils<0.16,>=0.10 in /usr/local/lib/python3.6/dist-packages (from botocore<1.14.0,>=1.13.13->boto3->transformers) (0.15.2)\n",
            "Requirement already satisfied: python-dateutil<2.8.1,>=2.1; python_version >= \"2.7\" in /usr/local/lib/python3.6/dist-packages (from botocore<1.14.0,>=1.13.13->boto3->transformers) (2.6.1)\n",
            "--2019-11-12 15:25:24--  https://raw.githubusercontent.com/ollema/nlp2019/master/a1_data/wsd_train.txt\n",
            "Resolving raw.githubusercontent.com (raw.githubusercontent.com)... 151.101.0.133, 151.101.64.133, 151.101.128.133, ...\n",
            "Connecting to raw.githubusercontent.com (raw.githubusercontent.com)|151.101.0.133|:443... connected.\n",
            "HTTP request sent, awaiting response... 200 OK\n",
            "Length: 46435645 (44M) [text/plain]\n",
            "Saving to: ‘wsd_train.txt.3’\n",
            "\n",
            "wsd_train.txt.3     100%[===================>]  44.28M   177MB/s    in 0.3s    \n",
            "\n",
            "2019-11-12 15:25:25 (177 MB/s) - ‘wsd_train.txt.3’ saved [46435645/46435645]\n",
            "\n"
          ],
          "name": "stdout"
        }
      ]
    },
    {
      "cell_type": "code",
      "metadata": {
        "id": "DgOUiz7HERp7",
        "colab_type": "code",
        "outputId": "ddf83b18-9d49-43e5-fa4f-b4bc1714878b",
        "colab": {
          "base_uri": "https://localhost:8080/",
          "height": 173
        }
      },
      "source": [
        "import torch\n",
        "from torch import nn\n",
        "import time\n",
        "import torchtext\n",
        "\n",
        "from collections import defaultdict, OrderedDict\n",
        "import copy\n",
        "import random\n",
        "import sys\n",
        "random.seed(1)\n",
        "torch.manual_seed(1)\n",
        "\n",
        "import matplotlib.pyplot as plt\n",
        "\n",
        "%config InlineBackend.figure_format = 'retina' \n",
        "plt.style.use('seaborn')\n",
        "\n",
        "from transformers import DistilBertTokenizer, DistilBertForSequenceClassification, AdamW\n",
        "model_name = 'distilbert-base-uncased'\n",
        "\n",
        "tokenizer = DistilBertTokenizer.from_pretrained(model_name)\n",
        "\n",
        "# A small helper function that will call the BERT tokenizer and truncate.\n",
        "def bert_tokenize(sen):\n",
        "    return tokenizer.tokenize(sen)[:138]\n",
        "\n",
        "\n",
        "def read_data(corpus_file, doc_start, with_padding = True):\n",
        "    \"\"\" Parses input file and returns filtered datasets for each word-type in corpus as well as\n",
        "    list of word-types found in corpus. \"\"\"\n",
        "    # Initialization\n",
        "    text = torchtext.data.Field(sequential=True, tokenize=bert_tokenize, pad_token=tokenizer.pad_token,\n",
        "                                init_token=tokenizer.cls_token, eos_token=tokenizer.sep_token)\n",
        "    label = torchtext.data.LabelField(is_target=True)\n",
        "    datafields = [('text', text), ('label', label)]\n",
        "    label_column = 0\n",
        "\n",
        "    if with_padding == True:\n",
        "        pad_string = tokenizer.pad_token\n",
        "        sentence_length = 140\n",
        "        half_sentence_length = int(sentence_length/2)\n",
        "        with open(corpus_file, encoding='utf-8') as f:\n",
        "            examples = []\n",
        "            for line in f:\n",
        "                columns = line.strip().split(maxsplit=doc_start)\n",
        "                position_of_wordtype = int(columns[2])\n",
        "\n",
        "                # Split the long string doc into array and extract words before the wordtype.\n",
        "                doc = columns[-1]\n",
        "                doc_string_vector = doc.split()\n",
        "                temp_pad = [pad_string for x in range(0,70)]\n",
        "\n",
        "                padded_doc = []\n",
        "                padded_doc.extend(temp_pad)\n",
        "                padded_doc.extend(doc_string_vector)\n",
        "                padded_doc.extend(temp_pad)\n",
        "\n",
        "                sliced_doc = padded_doc[position_of_wordtype:position_of_wordtype + 140]\n",
        "\n",
        "                if len(sliced_doc) != 140:\n",
        "                    print(sliced_doc)\n",
        "                    raise RuntimeError\n",
        "\n",
        "                sliced_doc = \" \".join(sliced_doc)\n",
        "                label = columns[label_column]\n",
        "\n",
        "                examples.append(torchtext.data.Example.fromlist([sliced_doc, label], datafields))\n",
        "    else:\n",
        "        with open(corpus_file, encoding='utf-8') as f:\n",
        "            examples = []\n",
        "            for line in f:\n",
        "                columns = line.strip().split(maxsplit=doc_start)\n",
        "                doc = columns[-1]\n",
        "                label = columns[label_column]\n",
        "                examples.append(torchtext.data.Example.fromlist([doc, label], datafields))\n",
        "    unfiltered_data = torchtext.data.Dataset(examples, datafields,filter_pred=None)\n",
        "\n",
        "    # Read complete dataset to get set of word-types. E.i 'keep', 'line'...\n",
        "    filter_function = None\n",
        "    word_types = set()\n",
        "    for example in unfiltered_data.examples:\n",
        "        word_types.add(example.label.split(\"%\", 1)[0])\n",
        "    word_types = list(word_types)\n",
        "\n",
        "    # Create filtered datasets for each word-type\n",
        "    filtered_datasets = OrderedDict()\n",
        "    for a_word_type in word_types:\n",
        "        filter_function = lambda ex: ex.label.split(\"%\", 1)[0] == a_word_type\n",
        "        text = torchtext.data.Field(sequential=True, tokenize=bert_tokenize, pad_token=tokenizer.pad_token,\n",
        "                                    init_token=tokenizer.cls_token, eos_token=tokenizer.sep_token)\n",
        "        label = torchtext.data.LabelField(is_target=True)\n",
        "        datafields = [('text', text), ('label', label)]\n",
        "\n",
        "        filtered_data_set = torchtext.data.Dataset(examples, datafields, filter_pred=filter_function)\n",
        "        filtered_datasets[a_word_type] = (filtered_data_set, text, label)\n",
        "    return filtered_datasets\n",
        "\n",
        "\n",
        "def evaluate_validation(scores, gold):\n",
        "    guesses = scores.argmax(dim=1)\n",
        "    return (guesses == gold).sum().item()\n",
        "\n",
        "filtered_datasets = read_data('wsd_train.txt', doc_start=4)\n",
        "\n",
        "models = OrderedDict()\n",
        "max_verifications = OrderedDict()\n",
        "model_vocabs = OrderedDict()\n",
        "model_label_vocabs = OrderedDict()\n",
        "\n",
        "for word_type, filtered_dataset in filtered_datasets.items():\n",
        "    dataset = filtered_dataset[0]\n",
        "    text = filtered_dataset[1]\n",
        "    label = filtered_dataset[2]\n",
        "\n",
        "    train, valid = dataset.split([0.8, 0.2])\n",
        "    \n",
        "    text.build_vocab(train)\n",
        "    model_vocabs[word_type] = text.vocab\n",
        "    label.build_vocab(train)\n",
        "    model_label_vocabs[word_type] = label.vocab\n",
        "\n",
        "    text.vocab.stoi = tokenizer.vocab\n",
        "    text.vocab.itos = list(tokenizer.vocab)\n",
        "\n",
        "    device = 'cuda'\n",
        "\n",
        "    train_iterator = torchtext.data.Iterator(\n",
        "        train,\n",
        "        device=device,\n",
        "        batch_size=32,\n",
        "        repeat=False,\n",
        "        train=True,\n",
        "        sort=False)\n",
        "\n",
        "    valid_iterator = torchtext.data.Iterator(\n",
        "        valid,\n",
        "        device=device,\n",
        "        batch_size=32,\n",
        "        repeat=False,\n",
        "        train=False,\n",
        "        sort=False)\n",
        "    \n",
        "    n_senses = len(label.vocab)\n",
        "\n",
        "    print(f\"Using DistilBertForSequenceClassification\")\n",
        "    model = DistilBertForSequenceClassification.from_pretrained(model_name, num_labels=n_senses)\n",
        "    model.cuda()\n",
        "\n",
        "    no_decay = ['bias', 'LayerNorm.weight']\n",
        "    decay = 0.01\n",
        "    optimizer_grouped_parameters = [\n",
        "        {'params': [p for n, p in model.named_parameters() if not any(nd in n for nd in no_decay)], 'weight_decay': decay},\n",
        "        {'params': [p for n, p in model.named_parameters() if any(nd in n for nd in no_decay)], 'weight_decay': 0.0}\n",
        "    ]\n",
        "\n",
        "    optimizer = AdamW(optimizer_grouped_parameters, lr=5e-5, eps=1e-8)\n",
        "\n",
        "    n_epochs = 2\n",
        "\n",
        "    history = defaultdict(list)\n",
        "    max_val_acc = -1\n",
        "\n",
        "    print(f\"Training {word_type}...\")\n",
        "    for i in range(n_epochs):\n",
        "        \n",
        "        t0 = time.time()\n",
        "        \n",
        "        loss_sum = 0\n",
        "        n_batches = 0\n",
        "\n",
        "        model.train()\n",
        "        \n",
        "        for batch in train_iterator:\n",
        "            print('.', end='')\n",
        "            sys.stdout.flush()\n",
        "\n",
        "            text = batch.text.t()\n",
        "\n",
        "            optimizer.zero_grad()\n",
        "\n",
        "            outputs = model(text, labels=batch.label)\n",
        "                        \n",
        "            loss = outputs[0]\n",
        "            \n",
        "            loss.backward()\n",
        "            optimizer.step()\n",
        "                        \n",
        "            loss_sum += loss.item()\n",
        "            n_batches += 1\n",
        "        \n",
        "        train_loss = loss_sum / n_batches\n",
        "        history['train_loss'].append(train_loss)\n",
        "        \n",
        "        n_correct = 0\n",
        "        n_valid = len(valid)\n",
        "        loss_sum = 0\n",
        "        n_batches = 0\n",
        "\n",
        "        model.eval()\n",
        "        \n",
        "        for batch in valid_iterator:\n",
        "            print('.', end='')\n",
        "            sys.stdout.flush()\n",
        "            \n",
        "            text = batch.text.t()\n",
        "            \n",
        "            with torch.no_grad():\n",
        "                outputs = model(text, labels=batch.label)\n",
        "                loss_batch, scores = outputs\n",
        "                \n",
        "            loss_sum += loss_batch.item()\n",
        "            n_correct += evaluate_validation(scores, batch.label)\n",
        "            n_batches += 1\n",
        "            \n",
        "            if n_batches % 50 == 0:\n",
        "                print()\n",
        "\n",
        "        val_acc = n_correct / n_valid\n",
        "        val_loss = loss_sum / n_batches\n",
        "\n",
        "        history['val_loss'].append(val_loss)\n",
        "        history['val_acc'].append(val_acc)   \n",
        "\n",
        "        if val_acc > max_val_acc:\n",
        "            max_val_acc = val_acc\n",
        "            models[word_type] = copy.deepcopy(model)\n",
        "            max_verifications[word_type] = max_val_acc   \n",
        "                \n",
        "        t1 = time.time()\n",
        "        print()\n",
        "        print(f'Epoch {i+1}: train loss = {train_loss:.4f}, val loss = {val_loss:.4f}, val acc: {val_acc:.4f}, time = {t1-t0:.4f}')\n",
        "\n",
        "    break\n",
        "\n",
        "    plt.plot(history['train_loss'])\n",
        "    plt.plot(history['val_loss'])\n",
        "    plt.plot(history['val_acc'])\n",
        "    plt.legend(['training loss', 'validation loss', 'validation accuracy'])\n",
        "    plt.show()\n"
      ],
      "execution_count": 5,
      "outputs": [
        {
          "output_type": "display_data",
          "data": {
            "text/html": [
              "<p style=\"color: red;\">\n",
              "The default version of TensorFlow in Colab will soon switch to TensorFlow 2.x.<br>\n",
              "We recommend you <a href=\"https://www.tensorflow.org/guide/migrate\" target=\"_blank\">upgrade</a> now \n",
              "or ensure your notebook will continue to use TensorFlow 1.x via the <code>%tensorflow_version 1.x</code> magic:\n",
              "<a href=\"https://colab.research.google.com/notebooks/tensorflow_version.ipynb\" target=\"_blank\">more info</a>.</p>\n"
            ],
            "text/plain": [
              "<IPython.core.display.HTML object>"
            ]
          },
          "metadata": {
            "tags": []
          }
        },
        {
          "output_type": "stream",
          "text": [
            "Using DistilBertForSequenceClassification\n",
            "Training line...\n",
            "..............................................................................................................................................................................\n",
            "Epoch 1: train loss = 0.5219, val loss = 0.2520, val acc: 0.9243, time = 125.6764\n",
            "..............................................................................................................................................................................\n",
            "Epoch 2: train loss = 0.1529, val loss = 0.1173, val acc: 0.9657, time = 124.9546\n"
          ],
          "name": "stdout"
        }
      ]
    },
    {
      "cell_type": "code",
      "metadata": {
        "id": "y5b_xYMy-p_F",
        "colab_type": "code",
        "colab": {
          "base_uri": "https://localhost:8080/",
          "height": 1000
        },
        "outputId": "403ddcaf-3b6d-4ba5-8ec6-9d7fc20780c3"
      },
      "source": [
        "avg = sum(max_verifications.values())/30\n",
        "\n",
        "fig=plt.figure(figsize=(18, 16), dpi= 80, facecolor='w', edgecolor='k')\n",
        "plt.bar(list(max_verifications.keys()), max_verifications.values(), color='g')\n",
        "x = [i for i in range(0,30)]\n",
        "y = [0.3 for i in range(0,30)]\n",
        "plt.plot(x,y,'b--')\n",
        "x = [i for i in range(0,30)]\n",
        "y = [avg for i in range(0,30)]\n",
        "plt.plot(x,y,'b--')\n",
        "plt.tick_params(axis='both', which='major', labelsize=30) \n",
        "plt.xticks(rotation='vertical')\n",
        "plt.show()"
      ],
      "execution_count": 6,
      "outputs": [
        {
          "output_type": "display_data",
          "data": {
            "image/png": "[encoded data removed]",
            "text/plain": [
              "<Figure size 1440x1280 with 1 Axes>"
            ]
          },
          "metadata": {
            "tags": [],
            "image/png": {
              "width": 1186,
              "height": 1042
            }
          }
        }
      ]
    },
    {
      "cell_type": "code",
      "metadata": {
        "id": "RkeFL6epA-Zy",
        "colab_type": "code",
        "outputId": "271822b2-b32e-413a-933d-d3b900499a77",
        "colab": {
          "base_uri": "https://localhost:8080/",
          "height": 216
        }
      },
      "source": [
        "!wget https://raw.githubusercontent.com/peterSvenningsson/NLP_documents_/master/wsd_test_blind.txt"
      ],
      "execution_count": 7,
      "outputs": [
        {
          "output_type": "stream",
          "text": [
            "--2019-11-12 15:32:25--  https://raw.githubusercontent.com/peterSvenningsson/NLP_documents_/master/wsd_test_blind.txt\n",
            "Resolving raw.githubusercontent.com (raw.githubusercontent.com)... 151.101.0.133, 151.101.64.133, 151.101.128.133, ...\n",
            "Connecting to raw.githubusercontent.com (raw.githubusercontent.com)|151.101.0.133|:443... connected.\n",
            "HTTP request sent, awaiting response... 200 OK\n",
            "Length: 7987686 (7.6M) [text/plain]\n",
            "Saving to: ‘wsd_test_blind.txt.3’\n",
            "\n",
            "\rwsd_test_blind.txt.   0%[                    ]       0  --.-KB/s               \rwsd_test_blind.txt. 100%[===================>]   7.62M  --.-KB/s    in 0.1s    \n",
            "\n",
            "2019-11-12 15:32:26 (79.7 MB/s) - ‘wsd_test_blind.txt.3’ saved [7987686/7987686]\n",
            "\n"
          ],
          "name": "stdout"
        }
      ]
    },
    {
      "cell_type": "code",
      "metadata": {
        "id": "U4JBS7JWA48_",
        "colab_type": "code",
        "colab": {}
      },
      "source": [
        "def read_test_data(corpus_file, doc_start):\n",
        "    TEXT = torchtext.data.Field(sequential=True, tokenize=lambda x: x.split())\n",
        "    WORDTYPE = torchtext.data.Field()\n",
        "    datafields = [('text', TEXT), ('wordtype', WORDTYPE)]\n",
        "    pad_string = '<pad>'\n",
        "    sentence_length = 140\n",
        "    half_sentence_length = int(sentence_length/2)\n",
        "    with open(corpus_file, encoding='utf-8') as f:\n",
        "        examples = []\n",
        "        for line in f:\n",
        "            columns = line.strip().split(maxsplit=doc_start)\n",
        "            position_of_wordtype = int(columns[2])\n",
        "\n",
        "            # Split the long string doc into array and extract words before the wordtype.\n",
        "            doc = columns[-1]\n",
        "            doc_string_vector = doc.split()\n",
        "            temp_pad = [pad_string for x in range(0,70)]\n",
        "\n",
        "            padded_doc = []\n",
        "            padded_doc.extend(temp_pad)\n",
        "            padded_doc.extend(doc_string_vector)\n",
        "            padded_doc.extend(temp_pad)\n",
        "\n",
        "            sliced_doc = padded_doc[position_of_wordtype:position_of_wordtype + 140]\n",
        "\n",
        "            if len(sliced_doc) != 140:\n",
        "                print(sliced_doc)\n",
        "                raise RuntimeError\n",
        "\n",
        "            sliced_doc = \" \".join(sliced_doc)\n",
        "\n",
        "            wordtype = columns[1].split('.')[0]\n",
        "            examples.append(torchtext.data.Example.fromlist([sliced_doc, wordtype], datafields))\n",
        "    dataset = torchtext.data.Dataset(examples, datafields)\n",
        "    return (dataset, TEXT, WORDTYPE)\n",
        "\n",
        "    "
      ],
      "execution_count": 0,
      "outputs": []
    },
    {
      "cell_type": "code",
      "metadata": {
        "id": "dv_bmxXiBx89",
        "colab_type": "code",
        "outputId": "e6f688a7-6e11-452d-e623-9818c07435de",
        "colab": {
          "base_uri": "https://localhost:8080/",
          "height": 245
        }
      },
      "source": [
        "test_dataset = read_test_data('wsd_test_blind.txt', doc_start=4)\n",
        "for example in test_dataset[0].examples:\n",
        "    test_example_string = example.text\n",
        "    example_wordtype = example.wordtype[0]\n",
        "\n",
        "    if example_wordtype != \"line\":\n",
        "        continue\n",
        "\n",
        "    # Load vocabs\n",
        "    example_vocab = model_vocabs[example_wordtype]\n",
        "    example_label_vocabs = model_label_vocabs[example_wordtype]\n",
        "\n",
        "    # Encode string\n",
        "    # encoded_example = torch.tensor([example_vocab.stoi[x] for x in test_example_string],device=device, requires_grad = False)    \n",
        "    encoded_example_list = []\n",
        "    for x in test_example_string:\n",
        "        try:\n",
        "            i = example_vocab.stoi[x]\n",
        "        except:\n",
        "            i = tokenizer.unk_token\n",
        "        encoded_example_list.append(i)\n",
        "    encoded_example = torch.tensor(encoded_example_list, device=device, requires_grad=False)\n",
        "\n",
        "    # Load correct model\n",
        "    model = models[example_wordtype]\n",
        "\n",
        "    # Get prediction\n",
        "    scores = model(encoded_example.unsqueeze(1))\n",
        "    prediction = scores.argmax(dim=1)\n",
        "\n",
        "    # Decode prediction\n",
        "    decoded_prediction = example_label_vocabs.itos[prediction]\n",
        "    print(decoded_prediction)\n",
        "\n",
        "\n"
      ],
      "execution_count": 10,
      "outputs": [
        {
          "output_type": "error",
          "ename": "ValueError",
          "evalue": "ignored",
          "traceback": [
            "\u001b[0;31m---------------------------------------------------------------------------\u001b[0m",
            "\u001b[0;31mValueError\u001b[0m                                Traceback (most recent call last)",
            "\u001b[0;32m<ipython-input-10-e2d1a02adc1d>\u001b[0m in \u001b[0;36m<module>\u001b[0;34m()\u001b[0m\n\u001b[1;32m     20\u001b[0m             \u001b[0mi\u001b[0m \u001b[0;34m=\u001b[0m \u001b[0mtokenizer\u001b[0m\u001b[0;34m.\u001b[0m\u001b[0munk_token\u001b[0m\u001b[0;34m\u001b[0m\u001b[0;34m\u001b[0m\u001b[0m\n\u001b[1;32m     21\u001b[0m         \u001b[0mencoded_example_list\u001b[0m\u001b[0;34m.\u001b[0m\u001b[0mappend\u001b[0m\u001b[0;34m(\u001b[0m\u001b[0mi\u001b[0m\u001b[0;34m)\u001b[0m\u001b[0;34m\u001b[0m\u001b[0;34m\u001b[0m\u001b[0m\n\u001b[0;32m---> 22\u001b[0;31m     \u001b[0mencoded_example\u001b[0m \u001b[0;34m=\u001b[0m \u001b[0mtorch\u001b[0m\u001b[0;34m.\u001b[0m\u001b[0mtensor\u001b[0m\u001b[0;34m(\u001b[0m\u001b[0mencoded_example_list\u001b[0m\u001b[0;34m,\u001b[0m \u001b[0mdevice\u001b[0m\u001b[0;34m=\u001b[0m\u001b[0mdevice\u001b[0m\u001b[0;34m,\u001b[0m \u001b[0mrequires_grad\u001b[0m\u001b[0;34m=\u001b[0m\u001b[0;32mFalse\u001b[0m\u001b[0;34m)\u001b[0m\u001b[0;34m\u001b[0m\u001b[0;34m\u001b[0m\u001b[0m\n\u001b[0m\u001b[1;32m     23\u001b[0m \u001b[0;34m\u001b[0m\u001b[0m\n\u001b[1;32m     24\u001b[0m     \u001b[0;31m# Load correct model\u001b[0m\u001b[0;34m\u001b[0m\u001b[0;34m\u001b[0m\u001b[0;34m\u001b[0m\u001b[0m\n",
            "\u001b[0;31mValueError\u001b[0m: too many dimensions 'str'"
          ]
        }
      ]
    },
    {
      "cell_type": "code",
      "metadata": {
        "id": "i797y7iFIlD5",
        "colab_type": "code",
        "colab": {}
      },
      "source": [
        ""
      ],
      "execution_count": 0,
      "outputs": []
    }
  ]
}